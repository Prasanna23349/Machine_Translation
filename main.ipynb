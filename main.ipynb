{
 "cells": [
  {
   "cell_type": "code",
   "execution_count": 2,
   "metadata": {},
   "outputs": [
    {
     "name": "stdout",
     "output_type": "stream",
     "text": [
      "Wed Feb 28 18:29:18 2024       \n",
      "+---------------------------------------------------------------------------------------+\n",
      "| NVIDIA-SMI 546.12                 Driver Version: 546.12       CUDA Version: 12.3     |\n",
      "|-----------------------------------------+----------------------+----------------------+\n",
      "| GPU  Name                     TCC/WDDM  | Bus-Id        Disp.A | Volatile Uncorr. ECC |\n",
      "| Fan  Temp   Perf          Pwr:Usage/Cap |         Memory-Usage | GPU-Util  Compute M. |\n",
      "|                                         |                      |               MIG M. |\n",
      "|=========================================+======================+======================|\n",
      "|   0  NVIDIA GeForce RTX 3050 ...  WDDM  | 00000000:01:00.0 Off |                  N/A |\n",
      "| N/A   48C    P8               7W /  95W |    102MiB /  4096MiB |      8%      Default |\n",
      "|                                         |                      |                  N/A |\n",
      "+-----------------------------------------+----------------------+----------------------+\n",
      "                                                                                         \n",
      "+---------------------------------------------------------------------------------------+\n",
      "| Processes:                                                                            |\n",
      "|  GPU   GI   CI        PID   Type   Process name                            GPU Memory |\n",
      "|        ID   ID                                                             Usage      |\n",
      "|=======================================================================================|\n",
      "|    0   N/A  N/A     21972    C+G   ...Programs\\Microsoft VS Code\\Code.exe    N/A      |\n",
      "+---------------------------------------------------------------------------------------+\n"
     ]
    }
   ],
   "source": [
    "!nvidia-smi"
   ]
  },
  {
   "cell_type": "code",
   "execution_count": 58,
   "metadata": {},
   "outputs": [],
   "source": [
    "import warnings\n",
    "warnings.filterwarnings(action='ignore',category=FutureWarning)\n"
   ]
  },
  {
   "cell_type": "code",
   "execution_count": 163,
   "metadata": {},
   "outputs": [],
   "source": [
    "import os\n",
    "import numpy as np\n",
    "import pandas as pd\n",
    "import tensorflow as tf\n",
    "from tensorflow.keras.models import Sequential\n",
    "from tensorflow.keras.layers import Dense,Concatenate,Embedding,LayerNormalization,Dropout\n",
    "from keras.preprocessing.sequence import pad_sequences\n",
    "from keras.preprocessing.text import Tokenizer\n",
    "tf.keras.backend.set_floatx('float32')\n",
    "\n",
    "import matplotlib.pyplot as plt\n",
    "import matplotlib.ticker as ticker\n",
    "%matplotlib inline"
   ]
  },
  {
   "cell_type": "code",
   "execution_count": 164,
   "metadata": {},
   "outputs": [],
   "source": [
    "# DATA_PATH='hindi_english_parallel - Copy.csv'\n",
    "DATA_PATH='hindi_english_parallel - Copy.csv'\n",
    "CHECKPOINT_PATH = 'C:/Users/Prasanna/.vscode/Translator/check_temp'\n",
    "os.mkdir(CHECKPOINT_PATH)\n",
    "\n",
    "SAMPLES=30000\n",
    "MAX_WORDS=20\n",
    "VOCAB=10000\n",
    "BATCH_SIZE=64"
   ]
  },
  {
   "cell_type": "code",
   "execution_count": 166,
   "metadata": {},
   "outputs": [
    {
     "data": {
      "text/html": [
       "<div>\n",
       "<style scoped>\n",
       "    .dataframe tbody tr th:only-of-type {\n",
       "        vertical-align: middle;\n",
       "    }\n",
       "\n",
       "    .dataframe tbody tr th {\n",
       "        vertical-align: top;\n",
       "    }\n",
       "\n",
       "    .dataframe thead th {\n",
       "        text-align: right;\n",
       "    }\n",
       "</style>\n",
       "<table border=\"1\" class=\"dataframe\">\n",
       "  <thead>\n",
       "    <tr style=\"text-align: right;\">\n",
       "      <th></th>\n",
       "      <th>english</th>\n",
       "      <th>hindi</th>\n",
       "    </tr>\n",
       "  </thead>\n",
       "  <tbody>\n",
       "    <tr>\n",
       "      <th>0</th>\n",
       "      <td>Give your application an accessibility workout</td>\n",
       "      <td>अपने अनुप्रयोग को पहुंचनीयता व्यायाम का लाभ दें</td>\n",
       "    </tr>\n",
       "    <tr>\n",
       "      <th>1</th>\n",
       "      <td>Accerciser Accessibility Explorer</td>\n",
       "      <td>एक्सेर्साइसर पहुंचनीयता अन्वेषक</td>\n",
       "    </tr>\n",
       "    <tr>\n",
       "      <th>2</th>\n",
       "      <td>The default plugin layout for the bottom panel</td>\n",
       "      <td>निचले पटल के लिए डिफोल्ट प्लग-इन खाका</td>\n",
       "    </tr>\n",
       "    <tr>\n",
       "      <th>3</th>\n",
       "      <td>The default plugin layout for the top panel</td>\n",
       "      <td>ऊपरी पटल के लिए डिफोल्ट प्लग-इन खाका</td>\n",
       "    </tr>\n",
       "    <tr>\n",
       "      <th>4</th>\n",
       "      <td>A list of plugins that are disabled by default</td>\n",
       "      <td>उन प्लग-इनों की सूची जिन्हें डिफोल्ट रूप से निष्क्रिय किया गया है</td>\n",
       "    </tr>\n",
       "  </tbody>\n",
       "</table>\n",
       "</div>"
      ],
      "text/plain": [
       "                                          english  \\\n",
       "0  Give your application an accessibility workout   \n",
       "1               Accerciser Accessibility Explorer   \n",
       "2  The default plugin layout for the bottom panel   \n",
       "3     The default plugin layout for the top panel   \n",
       "4  A list of plugins that are disabled by default   \n",
       "\n",
       "                                                               hindi  \n",
       "0                    अपने अनुप्रयोग को पहुंचनीयता व्यायाम का लाभ दें  \n",
       "1                                    एक्सेर्साइसर पहुंचनीयता अन्वेषक  \n",
       "2                              निचले पटल के लिए डिफोल्ट प्लग-इन खाका  \n",
       "3                               ऊपरी पटल के लिए डिफोल्ट प्लग-इन खाका  \n",
       "4  उन प्लग-इनों की सूची जिन्हें डिफोल्ट रूप से निष्क्रिय किया गया है  "
      ]
     },
     "execution_count": 166,
     "metadata": {},
     "output_type": "execute_result"
    }
   ],
   "source": [
    "train=pd.read_csv(DATA_PATH)\n",
    "# train=train.drop(\"source\",axis=1)\n",
    "train.head()"
   ]
  },
  {
   "cell_type": "code",
   "execution_count": 167,
   "metadata": {},
   "outputs": [],
   "source": [
    "train=train.sample(SAMPLES)"
   ]
  },
  {
   "cell_type": "code",
   "execution_count": 168,
   "metadata": {},
   "outputs": [
    {
     "data": {
      "text/html": [
       "<div>\n",
       "<style scoped>\n",
       "    .dataframe tbody tr th:only-of-type {\n",
       "        vertical-align: middle;\n",
       "    }\n",
       "\n",
       "    .dataframe tbody tr th {\n",
       "        vertical-align: top;\n",
       "    }\n",
       "\n",
       "    .dataframe thead th {\n",
       "        text-align: right;\n",
       "    }\n",
       "</style>\n",
       "<table border=\"1\" class=\"dataframe\">\n",
       "  <thead>\n",
       "    <tr style=\"text-align: right;\">\n",
       "      <th></th>\n",
       "      <th>english</th>\n",
       "      <th>hindi</th>\n",
       "    </tr>\n",
       "  </thead>\n",
       "  <tbody>\n",
       "    <tr>\n",
       "      <th>703110</th>\n",
       "      <td>&lt;start&gt; Failure during recursive unset of “% s”:% s“% s” &lt;end&gt;</td>\n",
       "      <td>&lt;start&gt; के एकांतर अनसेट में विफलः% s &lt;end&gt;</td>\n",
       "    </tr>\n",
       "    <tr>\n",
       "      <th>955461</th>\n",
       "      <td>&lt;start&gt; We can get ActiveLight at SourceForge. net with free downloads from the largest Open Source applications and software directory. &lt;end&gt;</td>\n",
       "      <td>&lt;start&gt; हमें सक्रिय प्रकाश सोर्सफोर्ज. नेट पर व्यापक मुक्त स्रोत अनुप्रयोग तथा सॉफ्टवेयर निदेशिका से मुफ्त डाउनलोड मिल सकता है।  &lt;end&gt;</td>\n",
       "    </tr>\n",
       "    <tr>\n",
       "      <th>527383</th>\n",
       "      <td>&lt;start&gt; It 's this, just like this. &lt;end&gt;</td>\n",
       "      <td>&lt;start&gt; और यह बस इसी तरह है।  &lt;end&gt;</td>\n",
       "    </tr>\n",
       "    <tr>\n",
       "      <th>858408</th>\n",
       "      <td>&lt;start&gt; Haiti &lt;end&gt;</td>\n",
       "      <td>&lt;start&gt; हैटी गणतंत्र &lt;end&gt;</td>\n",
       "    </tr>\n",
       "    <tr>\n",
       "      <th>212392</th>\n",
       "      <td>&lt;start&gt; nan &lt;end&gt;</td>\n",
       "      <td>&lt;start&gt; nan &lt;end&gt;</td>\n",
       "    </tr>\n",
       "  </tbody>\n",
       "</table>\n",
       "</div>"
      ],
      "text/plain": [
       "                                                                                                                                               english  \\\n",
       "703110                                                                                  <start> Failure during recursive unset of “% s”:% s“% s” <end>   \n",
       "955461  <start> We can get ActiveLight at SourceForge. net with free downloads from the largest Open Source applications and software directory. <end>   \n",
       "527383                                                                                                       <start> It 's this, just like this. <end>   \n",
       "858408                                                                                                                             <start> Haiti <end>   \n",
       "212392                                                                                                                               <start> nan <end>   \n",
       "\n",
       "                                                                                                                                         hindi  \n",
       "703110                                                                                              <start> के एकांतर अनसेट में विफलः% s <end>  \n",
       "955461  <start> हमें सक्रिय प्रकाश सोर्सफोर्ज. नेट पर व्यापक मुक्त स्रोत अनुप्रयोग तथा सॉफ्टवेयर निदेशिका से मुफ्त डाउनलोड मिल सकता है।  <end>  \n",
       "527383                                                                                                     <start> और यह बस इसी तरह है।  <end>  \n",
       "858408                                                                                                              <start> हैटी गणतंत्र <end>  \n",
       "212392                                                                                                                       <start> nan <end>  "
      ]
     },
     "execution_count": 168,
     "metadata": {},
     "output_type": "execute_result"
    }
   ],
   "source": [
    "train['english'] = train['english'].apply(lambda x: '<start> '+str(x)+' <end>')\n",
    "train['hindi'] = train['hindi'].apply(lambda x: '<start> '+str(x)+' <end>')\n",
    "train.head()"
   ]
  },
  {
   "cell_type": "code",
   "execution_count": 170,
   "metadata": {},
   "outputs": [],
   "source": [
    "tokenizerE = Tokenizer(num_words=VOCAB, oov_token='<OOV>', lower=True, filters='#$!\"%&()*+,-./:;=?@[\\\\]^_`{|}~\\t\\n')\n",
    "\n",
    "tokenizerE.fit_on_texts(train['english'])\n",
    "\n",
    "eng_inp = tokenizerE.texts_to_sequences(train['english'])\n",
    "\n",
    "eng_inp = pad_sequences(eng_inp,maxlen=MAX_WORDS,truncating='post',padding='post',dtype='int64')"
   ]
  },
  {
   "cell_type": "code",
   "execution_count": 171,
   "metadata": {},
   "outputs": [],
   "source": [
    "tokenizerH = Tokenizer(num_words=VOCAB,oov_token='<OOV>',lower=True,filters='!\"#$%&()*+,-./:;=?@[\\\\]^_`{|}~\\t\\n')\n",
    "\n",
    "tokenizerH.fit_on_texts(train['hindi'])\n",
    "\n",
    "hin_inp=tokenizerH.texts_to_sequences(train['hindi'])\n",
    "\n",
    "hin_inp=pad_sequences(hin_inp,maxlen=MAX_WORDS,truncating='post',padding='post',dtype='int64')"
   ]
  },
  {
   "cell_type": "code",
   "execution_count": 172,
   "metadata": {},
   "outputs": [],
   "source": [
    "rev_hin_dict = dict(map(reversed, tokenizerH.word_index.items()))"
   ]
  },
  {
   "cell_type": "code",
   "execution_count": 173,
   "metadata": {},
   "outputs": [],
   "source": [
    "dataset = tf.data.Dataset.from_tensor_slices((eng_inp,hin_inp)).shuffle(SAMPLES).batch(BATCH_SIZE,drop_remainder=True)"
   ]
  },
  {
   "cell_type": "code",
   "execution_count": 174,
   "metadata": {},
   "outputs": [],
   "source": [
    "def pos_enc(posi,dim):\n",
    "    mat=1 / 10000 ** ( 2*(np.expand_dims(np.arange(0,dim),1)//2) / np.float32(dim) )    \n",
    "    pos=np.expand_dims(np.arange(0,posi),1)   \n",
    "    mat=np.reshape(mat,(1,dim))   \n",
    "    mul=pos*mat\n",
    "    mul[:, 0::2]=np.sin(mul[:, 0::2])\n",
    "    mul[:, 1::2]=np.cos(mul[:, 1::2])\n",
    "    mul=np.reshape(mul,(1,posi,dim))  \n",
    "    return tf.cast(mul,dtype=tf.float32)"
   ]
  },
  {
   "cell_type": "code",
   "execution_count": 175,
   "metadata": {},
   "outputs": [],
   "source": [
    "def padding_mask(ans):\n",
    "    ans=tf.cast(tf.math.equal(ans,0),tf.float32)\n",
    "    ans=ans[:,tf.newaxis,tf.newaxis,:]\n",
    "    return ans"
   ]
  },
  {
   "cell_type": "code",
   "execution_count": 176,
   "metadata": {},
   "outputs": [],
   "source": [
    "def look_ahead(size):\n",
    "    mask = 1 - tf.linalg.band_part(tf.ones((size, size)), -1, 0)\n",
    "    return mask"
   ]
  },
  {
   "cell_type": "code",
   "execution_count": 177,
   "metadata": {},
   "outputs": [],
   "source": [
    "def attention(q,k,v,mask):\n",
    "    matmul1=tf.matmul(q,k,transpose_b=True)\n",
    "    scale = matmul1 / tf.math.sqrt( tf.cast(tf.shape(k)[-1],dtype=tf.float32))\n",
    "    if mask is not None:\n",
    "        scale+=mask*(-1e9)\n",
    "    attn_wt = tf.nn.softmax(scale,axis=-1)\n",
    "    matmul2 = tf.matmul(attn_wt,v)\n",
    "    return matmul2,attn_wt"
   ]
  },
  {
   "cell_type": "code",
   "execution_count": 178,
   "metadata": {},
   "outputs": [],
   "source": [
    "class multi_head_attention(tf.keras.layers.Layer):\n",
    "    def __init__(self,num_heads,d):       \n",
    "        super(multi_head_attention,self).__init__()       \n",
    "        self.d=d\n",
    "        self.num_heads=num_heads\n",
    "        assert d%self.num_heads == 0\n",
    "        self.depth=d//self.num_heads       \n",
    "        self.denseQ=Dense(self.d)\n",
    "        self.denseK=Dense(self.d)\n",
    "        self.denseV=Dense(self.d)\n",
    "        self.denseOUT=Dense(self.d)\n",
    "    \n",
    "    def split_heads(self,x,batch):        \n",
    "        x=tf.reshape(x, (batch, -1, self.num_heads, self.depth))\n",
    "        return tf.transpose(x,perm=[0,2,1,3])\n",
    "    \n",
    "    def __call__(self,q,k,v,mask):\n",
    "        batch=tf.shape(q)[0]\n",
    "        q=self.denseQ(q)\n",
    "        k=self.denseK(k)\n",
    "        v=self.denseV(v)       \n",
    "        q=self.split_heads(q,batch)\n",
    "        k=self.split_heads(k,batch)\n",
    "        v=self.split_heads(v,batch)\n",
    "        out1attn,out2attnwt=attention(q,k,v,mask)\n",
    "        out1attn=tf.transpose(out1attn,perm=[0,2,1,3])\n",
    "        out1attn2=tf.reshape(out1attn,(batch,-1,self.d))\n",
    "        out1attn3=self.denseOUT(out1attn2)\n",
    "        return out1attn3,out2attnwt"
   ]
  },
  {
   "cell_type": "code",
   "execution_count": 179,
   "metadata": {},
   "outputs": [],
   "source": [
    "def feed_forward(d1,d2):\n",
    "    return Sequential([\n",
    "        Dense(d1,activation='relu'),\n",
    "        Dense(d2)\n",
    "    ])"
   ]
  },
  {
   "cell_type": "code",
   "execution_count": 180,
   "metadata": {},
   "outputs": [],
   "source": [
    "class EncoderLayer(tf.keras.layers.Layer):\n",
    "    def __init__(self,num_heads,d,D):\n",
    "        super(EncoderLayer,self).__init__()        \n",
    "        self.mha=multi_head_attention(num_heads,d)\n",
    "        self.ffn=feed_forward(D,d)       \n",
    "        self.norm1=LayerNormalization(epsilon=1e-6)\n",
    "        self.norm2=LayerNormalization(epsilon=1e-6)        \n",
    "        self.drop1=Dropout(0.1)\n",
    "        self.drop2=Dropout(0.1)\n",
    "    \n",
    "    def __call__(self,x,training,mask):\n",
    "        mha,_=self.mha(x,x,x,mask)\n",
    "        mha=self.drop1(mha,training=training)       \n",
    "        tmp1=self.norm1(x+mha)              \n",
    "        tmp2=self.ffn(tmp1)\n",
    "        tmp2=self.drop2(tmp2,training=training)  \n",
    "        tmp3=self.norm2(tmp1+tmp2)\n",
    "        return tmp3"
   ]
  },
  {
   "cell_type": "code",
   "execution_count": 181,
   "metadata": {},
   "outputs": [],
   "source": [
    "class DecoderLayer(tf.keras.layers.Layer):\n",
    "    def __init__(self,num_heads,d,D):\n",
    "        super(DecoderLayer,self).__init__()     \n",
    "        self.mha1=multi_head_attention(num_heads,d)\n",
    "        self.mha2=multi_head_attention(num_heads,d)\n",
    "        self.ffn=feed_forward(D,d)      \n",
    "        self.norm1=LayerNormalization(epsilon=1e-6)\n",
    "        self.norm2=LayerNormalization(epsilon=1e-6)        \n",
    "        self.norm3=LayerNormalization(epsilon=1e-6)       \n",
    "        self.drop1=Dropout(0.1)\n",
    "        self.drop2=Dropout(0.1)\n",
    "        self.drop3=Dropout(0.1)\n",
    "        \n",
    "    def __call__(self, x, encout, training, look_ahead, padding_mask):\n",
    "        mha1,attnwt1=self.mha1(x,x,x,look_ahead)\n",
    "        mha1=self.drop1(mha1,training=training)        \n",
    "        tmp1=self.norm1(x+mha1)       \n",
    "        mha2,attnwt2=self.mha2(tmp1,encout,encout,padding_mask)\n",
    "        mha2=self.drop2(mha2,training=training)        \n",
    "        tmp2=self.norm2(tmp1+mha2)    \n",
    "        tmp3=self.ffn(tmp2)\n",
    "        tmp3=self.drop3(tmp3,training=training)\n",
    "        tmp4=self.norm3(tmp2+tmp3)\n",
    "        return tmp4,attnwt1,attnwt2"
   ]
  },
  {
   "cell_type": "code",
   "execution_count": 182,
   "metadata": {},
   "outputs": [],
   "source": [
    "class Encoder(tf.keras.layers.Layer):\n",
    "    def __init__(self,vocab,d,maxposencsize,num_heads,D,num_layers):\n",
    "        super(Encoder,self).__init__()\n",
    "        self.d=d\n",
    "        self.num_layers=num_layers          \n",
    "        self.emb=Embedding(vocab,d)\n",
    "        self.posenc=pos_enc(maxposencsize,self.d)\n",
    "        self.enclayers=[EncoderLayer(num_heads,d,D) for _ in range(num_layers)]\n",
    "        self.drop=Dropout(0.1)\n",
    "      \n",
    "    def __call__(self,x,training,mask):\n",
    "        tmp=tf.shape(x)[1]\n",
    "        x=self.emb(x)   \n",
    "        x*=tf.math.sqrt(tf.cast(self.d,tf.float32))    \n",
    "        x+=self.posenc[:,:tmp,:]     \n",
    "        x=self.drop(x,training=training)\n",
    "        for i in range(self.num_layers):\n",
    "            x=self.enclayers[i](x,training,mask)\n",
    "        return x"
   ]
  },
  {
   "cell_type": "code",
   "execution_count": 183,
   "metadata": {},
   "outputs": [],
   "source": [
    "class Decoder(tf.keras.layers.Layer):\n",
    "    def __init__(self,vocab,d,maxposencsize,num_heads,D,num_layers):\n",
    "        super(Decoder,self).__init__()\n",
    "        self.d=d\n",
    "        self.num_layers=num_layers              \n",
    "        self.emb=Embedding(vocab,d)    \n",
    "        self.posenc=pos_enc(maxposencsize,d)\n",
    "        self.declayers=[DecoderLayer(num_heads,d,D) for _ in range(num_layers)]\n",
    "        self.drop=Dropout(0.1)\n",
    "       \n",
    "    def __call__(self,x,encout,training,look_ahead, padding_mask):\n",
    "        tmp=tf.shape(x)[1]\n",
    "        attnout={}\n",
    "        x=self.emb(x)    \n",
    "        x*=tf.math.sqrt(tf.cast(self.d,tf.float32))     \n",
    "        x+=self.posenc[:,:tmp,:]       \n",
    "        x=self.drop(x,training=training)\n",
    "        for i in range(self.num_layers):\n",
    "            x,attnwt1,attnwt2=self.declayers[i](x,encout,training,look_ahead, padding_mask)\n",
    "            attnout['decoder_layer{}_block1'.format(i+1)] = attnwt1\n",
    "            attnout['decoder_layer{}_block2'.format(i+1)] = attnwt2\n",
    "        return x,attnout"
   ]
  },
  {
   "cell_type": "code",
   "execution_count": 184,
   "metadata": {},
   "outputs": [],
   "source": [
    "class Transformer(tf.keras.Model):\n",
    "    def __init__(self,vocab,d,maxposencsize,num_heads,D,num_layers):\n",
    "        super(Transformer,self).__init__()\n",
    "        self.encoder=Encoder(vocab,d,maxposencsize,num_heads,D,num_layers)\n",
    "        self.decoder=Decoder(vocab,d,maxposencsize,num_heads,D,num_layers)\n",
    "        self.dense=Dense(vocab)\n",
    "        \n",
    "    def __call__(self,x,y,training,mask,look_ahead, padding_mask):\n",
    "        encoder_call=self.encoder(x,training,mask)\n",
    "        decoder_call,attnwt_call=self.decoder(y,encoder_call,training,look_ahead, padding_mask)\n",
    "        decoder_call=self.dense(decoder_call)\n",
    "        return decoder_call,attnwt_call"
   ]
  },
  {
   "cell_type": "code",
   "execution_count": 185,
   "metadata": {},
   "outputs": [],
   "source": [
    "d=128\n",
    "D=512\n",
    "num_heads=8\n",
    "num_layers=4\n",
    "maxposencsize=VOCAB\n",
    "EPOCH=30"
   ]
  },
  {
   "cell_type": "code",
   "execution_count": 186,
   "metadata": {},
   "outputs": [
    {
     "data": {
      "image/png": "[encoded data removed]",
      "text/plain": [
       "<Figure size 640x480 with 1 Axes>"
      ]
     },
     "metadata": {},
     "output_type": "display_data"
    }
   ],
   "source": [
    "class CustomSchedule(tf.keras.optimizers.schedules.LearningRateSchedule):\n",
    "    def __init__(self, d_model, warmup_steps=4000):\n",
    "        super(CustomSchedule, self).__init__()\n",
    "\n",
    "        self.d_model = tf.cast(d_model, tf.float32)\n",
    "        self.warmup_steps = warmup_steps\n",
    "\n",
    "    def __call__(self, step):\n",
    "        step = tf.cast(step, tf.float32)  # Ensure step is a float\n",
    "        arg1 = tf.math.rsqrt(step)\n",
    "        arg2 = step * (self.warmup_steps ** -1.5)\n",
    "        lrate = (self.d_model ** -0.5) * tf.math.minimum(arg1, arg2)\n",
    "\n",
    "        return lrate\n",
    "\n",
    "d = 0.1\n",
    "lrate = CustomSchedule(d)\n",
    "\n",
    "plt.plot(lrate(tf.range(40000, dtype=tf.float32)))\n",
    "plt.show()\n"
   ]
  },
  {
   "cell_type": "code",
   "execution_count": 187,
   "metadata": {},
   "outputs": [],
   "source": [
    "loss_object = tf.keras.losses.SparseCategoricalCrossentropy(from_logits=True, reduction='none')\n",
    "def loss_function(real, pred):\n",
    "    mask = tf.math.logical_not(tf.math.equal(real, 0))\n",
    "    loss_ = loss_object(real, pred)\n",
    "    mask = tf.cast(mask, dtype=loss_.dtype)\n",
    "    loss_ *= mask\n",
    "    return tf.reduce_sum(loss_)/tf.reduce_sum(mask)\n",
    "train_loss = tf.keras.metrics.Mean(name='train_loss')"
   ]
  },
  {
   "cell_type": "code",
   "execution_count": 188,
   "metadata": {},
   "outputs": [],
   "source": [
    "def create_masks(x,y):\n",
    "    tmp1=padding_mask(x)\n",
    "    tmp2=padding_mask(x)    \n",
    "    tmp3=look_ahead(tf.shape(y)[1])\n",
    "    tmp4=padding_mask(y)\n",
    "    tmp5=tf.maximum(tmp3,tmp4)     \n",
    "    return tmp1,tmp5,tmp2"
   ]
  },
  {
   "cell_type": "code",
   "execution_count": 189,
   "metadata": {},
   "outputs": [],
   "source": [
    "VOCAB = int(10000.0)  # Cast to integer\n",
    "d = int(512.0)  # Cast to integer\n",
    "max_pos_enc_size = int(1000.0)  # Cast to integer\n",
    "num_heads = int(8.0)  # Cast to integer\n",
    "D = int(2048.0)  # Cast to integer\n",
    "num_layers = int(6.0)  # Cast to integer\n",
    "\n",
    "transformer = Transformer(VOCAB,d,maxposencsize,num_heads,D,num_layers)"
   ]
  },
  {
   "cell_type": "code",
   "execution_count": 190,
   "metadata": {},
   "outputs": [],
   "source": [
    "# Replace your existing optimizer definition with the legacy optimizer\n",
    "optimizer = tf.keras.optimizers.legacy.Adam(lrate, beta_1=0.9, beta_2=0.98, epsilon=1e-9)\n"
   ]
  },
  {
   "cell_type": "code",
   "execution_count": 191,
   "metadata": {},
   "outputs": [],
   "source": [
    "checkpoint_path = CHECKPOINT_PATH\n",
    "ckpt = tf.train.Checkpoint(transformer=transformer,optimizer=optimizer)\n",
    "ckpt_manager = tf.train.CheckpointManager(ckpt, checkpoint_path, max_to_keep=3)"
   ]
  },
  {
   "cell_type": "code",
   "execution_count": 192,
   "metadata": {},
   "outputs": [],
   "source": [
    "train_step_signature = [\n",
    "    tf.TensorSpec(shape=(None, None), dtype=tf.int64),\n",
    "    tf.TensorSpec(shape=(None, None), dtype=tf.int64),\n",
    "]\n",
    "\n",
    "@tf.function(input_signature=train_step_signature)\n",
    "def training(x,y):\n",
    "    y_inp=y[:,:-1]\n",
    "    y_real=y[:,1:]   \n",
    "    mask,look_ahead, padding_mask=create_masks(x,y_inp)                                            \n",
    "    with tf.GradientTape() as tape:         \n",
    "        pred,_=transformer(x, y_inp, True, mask, look_ahead, padding_mask)\n",
    "        loss=loss_function(y_real,pred)              \n",
    "    variables=transformer.trainable_variables\n",
    "    gradients=tape.gradient(loss, variables) \n",
    "    optimizer.apply_gradients(zip(gradients, variables))\n",
    "    train_loss(loss)"
   ]
  },
  {
   "cell_type": "code",
   "execution_count": 193,
   "metadata": {},
   "outputs": [
    {
     "name": "stdout",
     "output_type": "stream",
     "text": [
      "Starting epoch 1\n",
      "loss = 6.1696\ttime taken = 708.12 secs\n",
      "Starting epoch 2\n",
      "loss = 5.9304\ttime taken = 740.30 secs\n",
      "Starting epoch 3\n",
      "loss = 5.8819\ttime taken = 718.31 secs\n",
      "Starting epoch 4\n",
      "loss = 5.8883\ttime taken = 723.69 secs\n",
      "Starting epoch 5\n",
      "loss = 5.8729\ttime taken = 720.80 secs\n",
      "Starting epoch 6\n",
      "loss = 5.8877\ttime taken = 706.73 secs\n",
      "Starting epoch 7\n",
      "loss = 5.9669\ttime taken = 706.44 secs\n",
      "Starting epoch 8\n",
      "loss = 6.0255\ttime taken = 702.44 secs\n",
      "Starting epoch 9\n",
      "loss = 6.0716\ttime taken = 708.16 secs\n",
      "Starting epoch 10\n"
     ]
    }
   ],
   "source": [
    "import time\n",
    "for epoch in range(EPOCH): \n",
    "    start_time=time.time()     \n",
    "    train_loss.reset_states()   \n",
    "    print(\"Starting epoch {}\".format(epoch+1))       \n",
    "    for x_batch,y_batch in dataset:\n",
    "        training(x_batch, y_batch)       \n",
    "    end_time=time.time()\n",
    "    print('loss = {:.4f}\\ttime taken = {:.2f} secs'.format(train_loss.result(),end_time-start_time))      \n",
    "    if (epoch + 1) % 5 == 0:\n",
    "        ckpt_save_path = ckpt_manager.save()"
   ]
  },
  {
   "cell_type": "code",
   "execution_count": null,
   "metadata": {},
   "outputs": [],
   "source": [
    "def evaluate(text,plot=False):   \n",
    " \n",
    "    text=tokenizerE.texts_to_sequences(text)\n",
    "    text=np.array(text).astype('int64')\n",
    "    text=pad_sequences(text,maxlen=MAX_WORDS,truncating='post',padding='post',dtype='int64')\n",
    "\n",
    "    decinp=[tokenizerH.word_index['<start>']]\n",
    "    decinp=tf.expand_dims(decinp,0)\n",
    "    for i in range (MAX_WORDS):\n",
    "        m1,m2,m3=create_masks(text,decinp)\n",
    "        p,a=transformer(text,decinp,False,m1,m2,m3)\n",
    "        p=p[: ,-1:, :] \n",
    "        predicted_id = tf.cast(tf.argmax(p, axis=-1), tf.int32)\n",
    "        decinp=tf.concat([decinp,predicted_id],axis=-1)\n",
    "\n",
    "    ans=sentence(decinp.numpy()[0])\n",
    "     \n",
    "    if plot==True:\n",
    "        att=[a['decoder_layer4_block2'].numpy()[0,i] for i in range(num_heads)]\n",
    "        for j in range (num_heads):\n",
    "            plt.matshow(att[j])\n",
    "            plt.show()\n",
    "            \n",
    "    print(\"Translated Sentence: \",ans)\n"
   ]
  },
  {
   "cell_type": "code",
   "execution_count": null,
   "metadata": {},
   "outputs": [],
   "source": [
    "def sentence(x):\n",
    "    ans=''\n",
    "    for w in x:\n",
    "        ans+=rev_hin_dict[w]+' '\n",
    "        if w == tokenizerH.word_index['<end>']:\n",
    "            return ans\n",
    "    return ans"
   ]
  },
  {
   "cell_type": "code",
   "execution_count": null,
   "metadata": {},
   "outputs": [
    {
     "data": {
      "image/png": "[encoded data removed]",
      "text/plain": [
       "<Figure size 480x480 with 1 Axes>"
      ]
     },
     "metadata": {},
     "output_type": "display_data"
    },
    {
     "data": {
      "image/png": "[encoded data removed]",
      "text/plain": [
       "<Figure size 480x480 with 1 Axes>"
      ]
     },
     "metadata": {},
     "output_type": "display_data"
    },
    {
     "data": {
      "image/png": "[encoded data removed]",
      "text/plain": [
       "<Figure size 480x480 with 1 Axes>"
      ]
     },
     "metadata": {},
     "output_type": "display_data"
    },
    {
     "data": {
      "image/png": "[encoded data removed]",
      "text/plain": [
       "<Figure size 480x480 with 1 Axes>"
      ]
     },
     "metadata": {},
     "output_type": "display_data"
    },
    {
     "data": {
      "image/png": "[encoded data removed]",
      "text/plain": [
       "<Figure size 480x480 with 1 Axes>"
      ]
     },
     "metadata": {},
     "output_type": "display_data"
    },
    {
     "data": {
      "image/png": "[encoded data removed]",
      "text/plain": [
       "<Figure size 480x480 with 1 Axes>"
      ]
     },
     "metadata": {},
     "output_type": "display_data"
    },
    {
     "data": {
      "image/png": "[encoded data removed]",
      "text/plain": [
       "<Figure size 480x480 with 1 Axes>"
      ]
     },
     "metadata": {},
     "output_type": "display_data"
    },
    {
     "data": {
      "image/png": "[encoded data removed]",
      "text/plain": [
       "<Figure size 480x480 with 1 Axes>"
      ]
     },
     "metadata": {},
     "output_type": "display_data"
    },
    {
     "name": "stdout",
     "output_type": "stream",
     "text": [
      "Translated Sentence:  <start> <end> \n"
     ]
    }
   ],
   "source": [
    "text=\"I think you should see this too\"\n",
    "evaluate([text],plot=True)"
   ]
  },
  {
   "cell_type": "code",
   "execution_count": null,
   "metadata": {},
   "outputs": [],
   "source": []
  }
 ],
 "metadata": {
  "kernelspec": {
   "display_name": "Python 3",
   "language": "python",
   "name": "python3"
  },
  "language_info": {
   "codemirror_mode": {
    "name": "ipython",
    "version": 3
   },
   "file_extension": ".py",
   "mimetype": "text/x-python",
   "name": "python",
   "nbconvert_exporter": "python",
   "pygments_lexer": "ipython3",
   "version": "3.10.7"
  }
 },
 "nbformat": 4,
 "nbformat_minor": 2
}
